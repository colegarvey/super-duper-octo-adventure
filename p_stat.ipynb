{
 "cells": [
  {
   "cell_type": "markdown",
   "metadata": {},
   "source": [
    "# Modeling Passsing Statistics\n",
    "***"
   ]
  },
  {
   "cell_type": "code",
   "execution_count": 1,
   "metadata": {},
   "outputs": [],
   "source": [
    "import pandas as pd\n",
    "import numpy as np\n",
    "import importlib\n",
    "from helpers import passing \n",
    "import matplotlib.pyplot as plt\n",
    "\n",
    "from sklearn.model_selection import train_test_split\n",
    "from sklearn.preprocessing import PolynomialFeatures\n",
    "from sklearn.linear_model import LinearRegression\n",
    "from sklearn.metrics import r2_score, mean_squared_error"
   ]
  },
  {
   "cell_type": "markdown",
   "metadata": {},
   "source": [
    "## Describing the Data\n",
    "\n",
    "Data consists of rows and columns, each row represents a certain player and contains $20$ different statistics for the respective player during the listed week and year of the football season.  \n",
    "\n",
    "Column descriptions:\n",
    "+ `Player` - name of the player\n",
    "+ `Year` - year for the season the statistics were collected\n",
    "+ `Wk` - week the game took place of the given season\n",
    "+ `Opp` - opposing team and game location\n",
    "+ `Result` - W/L and final game score\n",
    "+ `Comp` - number of passing completions\n",
    "+ `Att_P` - number of passing attempts\n",
    "+ `Yds_P` - total passing yards\n",
    "+ `Avg_P` - average passing yards per down\n",
    "+ `TD_P` - number of passing touchdowns\n",
    "+ `Ints` - number of interceptions thrown\n",
    "+ `Sck` - number of sacks\n",
    "+ `Scky` - total yards for sacks \n",
    "+ `Rate` - player rating\n",
    "+ `Att_R` - number of rushing attempts \n",
    "+ `Yds_R` - total rushing yards\n",
    "+ `Avg_R` - average rushing yards\n",
    "+ `TD_R` - number of rushing touchdowns\n",
    "+ `Fum` - number of fumbles \n",
    "+ `Lost` - number of un-recovered fumbles"
   ]
  },
  {
   "cell_type": "code",
   "execution_count": 2,
   "metadata": {},
   "outputs": [
    {
     "data": {
      "text/html": [
       "<div>\n",
       "<style scoped>\n",
       "    .dataframe tbody tr th:only-of-type {\n",
       "        vertical-align: middle;\n",
       "    }\n",
       "\n",
       "    .dataframe tbody tr th {\n",
       "        vertical-align: top;\n",
       "    }\n",
       "\n",
       "    .dataframe thead th {\n",
       "        text-align: right;\n",
       "    }\n",
       "</style>\n",
       "<table border=\"1\" class=\"dataframe\">\n",
       "  <thead>\n",
       "    <tr style=\"text-align: right;\">\n",
       "      <th></th>\n",
       "      <th>Player</th>\n",
       "      <th>Year</th>\n",
       "      <th>Wk</th>\n",
       "      <th>Opp</th>\n",
       "      <th>Result</th>\n",
       "      <th>Comp</th>\n",
       "      <th>Att_P</th>\n",
       "      <th>Yds_P</th>\n",
       "      <th>Avg_P</th>\n",
       "      <th>TD_P</th>\n",
       "      <th>Ints</th>\n",
       "      <th>Sck</th>\n",
       "      <th>Scky</th>\n",
       "      <th>Rate</th>\n",
       "      <th>Att_R</th>\n",
       "      <th>Yds_R</th>\n",
       "      <th>Avg_R</th>\n",
       "      <th>TD_R</th>\n",
       "      <th>Fum</th>\n",
       "      <th>Lost</th>\n",
       "    </tr>\n",
       "  </thead>\n",
       "  <tbody>\n",
       "    <tr>\n",
       "      <th>0</th>\n",
       "      <td>Joe Burrow</td>\n",
       "      <td>2024</td>\n",
       "      <td>18</td>\n",
       "      <td>@Steelers</td>\n",
       "      <td>W 19 - 17</td>\n",
       "      <td>37.0</td>\n",
       "      <td>46.0</td>\n",
       "      <td>277.0</td>\n",
       "      <td>6.0</td>\n",
       "      <td>1.0</td>\n",
       "      <td>1.0</td>\n",
       "      <td>4.0</td>\n",
       "      <td>31.0</td>\n",
       "      <td>90.0</td>\n",
       "      <td>1.0</td>\n",
       "      <td>-1.0</td>\n",
       "      <td>-1.0</td>\n",
       "      <td>0.0</td>\n",
       "      <td>1.0</td>\n",
       "      <td>0.0</td>\n",
       "    </tr>\n",
       "    <tr>\n",
       "      <th>1</th>\n",
       "      <td>Joe Burrow</td>\n",
       "      <td>2024</td>\n",
       "      <td>17</td>\n",
       "      <td>Broncos</td>\n",
       "      <td>W 30 - 24</td>\n",
       "      <td>39.0</td>\n",
       "      <td>49.0</td>\n",
       "      <td>412.0</td>\n",
       "      <td>8.4</td>\n",
       "      <td>3.0</td>\n",
       "      <td>0.0</td>\n",
       "      <td>7.0</td>\n",
       "      <td>28.0</td>\n",
       "      <td>122.1</td>\n",
       "      <td>4.0</td>\n",
       "      <td>25.0</td>\n",
       "      <td>6.2</td>\n",
       "      <td>1.0</td>\n",
       "      <td>NaN</td>\n",
       "      <td>NaN</td>\n",
       "    </tr>\n",
       "    <tr>\n",
       "      <th>2</th>\n",
       "      <td>Joe Burrow</td>\n",
       "      <td>2024</td>\n",
       "      <td>16</td>\n",
       "      <td>Browns</td>\n",
       "      <td>W 24 - 6</td>\n",
       "      <td>23.0</td>\n",
       "      <td>30.0</td>\n",
       "      <td>252.0</td>\n",
       "      <td>8.4</td>\n",
       "      <td>3.0</td>\n",
       "      <td>0.0</td>\n",
       "      <td>4.0</td>\n",
       "      <td>42.0</td>\n",
       "      <td>134.3</td>\n",
       "      <td>2.0</td>\n",
       "      <td>19.0</td>\n",
       "      <td>9.5</td>\n",
       "      <td>0.0</td>\n",
       "      <td>1.0</td>\n",
       "      <td>1.0</td>\n",
       "    </tr>\n",
       "    <tr>\n",
       "      <th>3</th>\n",
       "      <td>Joe Burrow</td>\n",
       "      <td>2024</td>\n",
       "      <td>15</td>\n",
       "      <td>@Titans</td>\n",
       "      <td>W 37 - 27</td>\n",
       "      <td>26.0</td>\n",
       "      <td>37.0</td>\n",
       "      <td>271.0</td>\n",
       "      <td>7.3</td>\n",
       "      <td>3.0</td>\n",
       "      <td>2.0</td>\n",
       "      <td>1.0</td>\n",
       "      <td>2.0</td>\n",
       "      <td>95.7</td>\n",
       "      <td>NaN</td>\n",
       "      <td>NaN</td>\n",
       "      <td>NaN</td>\n",
       "      <td>NaN</td>\n",
       "      <td>1.0</td>\n",
       "      <td>1.0</td>\n",
       "    </tr>\n",
       "    <tr>\n",
       "      <th>4</th>\n",
       "      <td>Joe Burrow</td>\n",
       "      <td>2024</td>\n",
       "      <td>14</td>\n",
       "      <td>@Cowboys</td>\n",
       "      <td>W 27 - 20</td>\n",
       "      <td>33.0</td>\n",
       "      <td>44.0</td>\n",
       "      <td>369.0</td>\n",
       "      <td>8.4</td>\n",
       "      <td>3.0</td>\n",
       "      <td>1.0</td>\n",
       "      <td>2.0</td>\n",
       "      <td>10.0</td>\n",
       "      <td>112.8</td>\n",
       "      <td>2.0</td>\n",
       "      <td>-2.0</td>\n",
       "      <td>-1.0</td>\n",
       "      <td>0.0</td>\n",
       "      <td>1.0</td>\n",
       "      <td>0.0</td>\n",
       "    </tr>\n",
       "  </tbody>\n",
       "</table>\n",
       "</div>"
      ],
      "text/plain": [
       "       Player  Year  Wk        Opp     Result  Comp  Att_P  Yds_P  Avg_P  \\\n",
       "0  Joe Burrow  2024  18  @Steelers  W 19 - 17  37.0   46.0  277.0    6.0   \n",
       "1  Joe Burrow  2024  17    Broncos  W 30 - 24  39.0   49.0  412.0    8.4   \n",
       "2  Joe Burrow  2024  16     Browns   W 24 - 6  23.0   30.0  252.0    8.4   \n",
       "3  Joe Burrow  2024  15    @Titans  W 37 - 27  26.0   37.0  271.0    7.3   \n",
       "4  Joe Burrow  2024  14   @Cowboys  W 27 - 20  33.0   44.0  369.0    8.4   \n",
       "\n",
       "   TD_P  Ints  Sck  Scky   Rate  Att_R  Yds_R  Avg_R  TD_R  Fum  Lost  \n",
       "0   1.0   1.0  4.0  31.0   90.0    1.0   -1.0   -1.0   0.0  1.0   0.0  \n",
       "1   3.0   0.0  7.0  28.0  122.1    4.0   25.0    6.2   1.0  NaN   NaN  \n",
       "2   3.0   0.0  4.0  42.0  134.3    2.0   19.0    9.5   0.0  1.0   1.0  \n",
       "3   3.0   2.0  1.0   2.0   95.7    NaN    NaN    NaN   NaN  1.0   1.0  \n",
       "4   3.0   1.0  2.0  10.0  112.8    2.0   -2.0   -1.0   0.0  1.0   0.0  "
      ]
     },
     "execution_count": 2,
     "metadata": {},
     "output_type": "execute_result"
    }
   ],
   "source": [
    "passing_data = pd.read_csv('data/nfl_passing_stats.csv')\n",
    "passing_data.head()"
   ]
  },
  {
   "cell_type": "code",
   "execution_count": 3,
   "metadata": {},
   "outputs": [
    {
     "name": "stdout",
     "output_type": "stream",
     "text": [
      "Number of Rows: 51\n"
     ]
    }
   ],
   "source": [
    "PLAYER = \"Patrick Mahomes\"\n",
    "player_data = passing.clean_nan( passing_data.loc[passing_data['Player'] == PLAYER] )\n",
    "print(\"Number of Rows:\", len(player_data))"
   ]
  },
  {
   "cell_type": "markdown",
   "metadata": {},
   "source": [
    "## Model 1: Quantity of Passing Yards"
   ]
  },
  {
   "cell_type": "code",
   "execution_count": 4,
   "metadata": {},
   "outputs": [
    {
     "data": {
      "text/html": [
       "<div>\n",
       "<style scoped>\n",
       "    .dataframe tbody tr th:only-of-type {\n",
       "        vertical-align: middle;\n",
       "    }\n",
       "\n",
       "    .dataframe tbody tr th {\n",
       "        vertical-align: top;\n",
       "    }\n",
       "\n",
       "    .dataframe thead th {\n",
       "        text-align: right;\n",
       "    }\n",
       "</style>\n",
       "<table border=\"1\" class=\"dataframe\">\n",
       "  <thead>\n",
       "    <tr style=\"text-align: right;\">\n",
       "      <th></th>\n",
       "      <th>Avg_P</th>\n",
       "      <th>TD_P</th>\n",
       "      <th>Ints</th>\n",
       "      <th>Cmp_rate</th>\n",
       "    </tr>\n",
       "  </thead>\n",
       "  <tbody>\n",
       "    <tr>\n",
       "      <th>8</th>\n",
       "      <td>6.3</td>\n",
       "      <td>1.0</td>\n",
       "      <td>0.0</td>\n",
       "      <td>0.666667</td>\n",
       "    </tr>\n",
       "    <tr>\n",
       "      <th>49</th>\n",
       "      <td>6.0</td>\n",
       "      <td>2.0</td>\n",
       "      <td>2.0</td>\n",
       "      <td>0.720000</td>\n",
       "    </tr>\n",
       "    <tr>\n",
       "      <th>6</th>\n",
       "      <td>7.3</td>\n",
       "      <td>3.0</td>\n",
       "      <td>0.0</td>\n",
       "      <td>0.729730</td>\n",
       "    </tr>\n",
       "    <tr>\n",
       "      <th>47</th>\n",
       "      <td>8.4</td>\n",
       "      <td>1.0</td>\n",
       "      <td>1.0</td>\n",
       "      <td>0.655172</td>\n",
       "    </tr>\n",
       "    <tr>\n",
       "      <th>4</th>\n",
       "      <td>5.7</td>\n",
       "      <td>1.0</td>\n",
       "      <td>0.0</td>\n",
       "      <td>0.648649</td>\n",
       "    </tr>\n",
       "  </tbody>\n",
       "</table>\n",
       "</div>"
      ],
      "text/plain": [
       "    Avg_P  TD_P  Ints  Cmp_rate\n",
       "8     6.3   1.0   0.0  0.666667\n",
       "49    6.0   2.0   2.0  0.720000\n",
       "6     7.3   3.0   0.0  0.729730\n",
       "47    8.4   1.0   1.0  0.655172\n",
       "4     5.7   1.0   0.0  0.648649"
      ]
     },
     "execution_count": 4,
     "metadata": {},
     "output_type": "execute_result"
    }
   ],
   "source": [
    "# Set features and statistic to predict\n",
    "X, y = passing.prep_yds(player_data)\n",
    "\n",
    "# Split player data into training(80%) and testing(20%) subsets\n",
    "X_train, X_test, y_train, y_test = train_test_split(X, y, test_size=0.2, random_state=42)\n",
    "X_train.head()"
   ]
  },
  {
   "cell_type": "markdown",
   "metadata": {},
   "source": [
    "Analysis not shown in this notebook helped find what degree polynomial best fits the data.  As can be seen below we use a $2^{nd}$ degree polynomial to model player data."
   ]
  },
  {
   "cell_type": "code",
   "execution_count": 5,
   "metadata": {},
   "outputs": [
    {
     "name": "stdout",
     "output_type": "stream",
     "text": [
      "  R-squared: 0.9666829657420634\n",
      "  RMSE: 10.569266770531026\n"
     ]
    }
   ],
   "source": [
    "# Create and fit 2nd degree polynomial to the data\n",
    "poly_model = PolynomialFeatures(degree=2)\n",
    "X_train_poly = poly_model.fit_transform(X_train)\n",
    "X_test_poly = poly_model.transform(X_test)\n",
    "\n",
    "# Create regression model \n",
    "pm1 = LinearRegression()\n",
    "pm1.fit(X_train_poly, y_train)\n",
    "\n",
    "# Gather model statistics\n",
    "tst_pred = pm1.predict(X_test_poly)\n",
    "r2 = r2_score(y_test, tst_pred)\n",
    "rmse = np.sqrt(mean_squared_error(y_test, tst_pred))\n",
    "print(f\"  R-squared: {r2}\")\n",
    "print(f\"  RMSE: {rmse}\")"
   ]
  },
  {
   "cell_type": "markdown",
   "metadata": {},
   "source": [
    "## Predicting\n",
    "The predictions made for players is based on other statistics such as those listed in the output of the trianing data.  In order to predict passing yards we take a sample of the player data and compute a number within 1 standard deviation of the sample mean.\n",
    "\n",
    "For future predictions we want to set a `random_state` variable so when we sample we can achieve the same permutation of rows when computing.  This will help align the player statistics when trying to predict multiple statistics as the data will be drawn for the same rows.\n",
    "\n",
    "As can be seen in the code, random_state $42$ is used for collecting the training and test data.  Thus to increase the likelihood of a permutation of the data that contains a mixture of the training and test data a different random_state should be used.  **Set a new random_state below.**"
   ]
  },
  {
   "cell_type": "code",
   "execution_count": 6,
   "metadata": {},
   "outputs": [],
   "source": [
    "# SET RANDOM_STATE HERE\n",
    "random_state = 74"
   ]
  },
  {
   "cell_type": "code",
   "execution_count": 19,
   "metadata": {},
   "outputs": [
    {
     "data": {
      "text/plain": [
       "array([[6.69246825, 0.6339746 , 0.8169873 , 0.64752298]])"
      ]
     },
     "execution_count": 19,
     "metadata": {},
     "output_type": "execute_result"
    }
   ],
   "source": [
    "# importlib.reload(passing)\n",
    "predictions = np.array([passing.sample_stats(X_test, random_state)])\n",
    "predictions"
   ]
  },
  {
   "cell_type": "code",
   "execution_count": 20,
   "metadata": {},
   "outputs": [
    {
     "name": "stdout",
     "output_type": "stream",
     "text": [
      "Sampled Player Stats:\n",
      "\t Average passing yds -> 6.692\n",
      "\t Passing touchdowns -> 0.634\n",
      "\t Interceptions thrown -> 0.817\n",
      "\t Passing completion rate -> 0.648\n"
     ]
    }
   ],
   "source": [
    "sampled_stats = zip(\n",
    "    ('Average passing yds','Passing touchdowns','Interceptions thrown','Passing completion rate'),\n",
    "    predictions.flatten() )\n",
    "\n",
    "print(\"Sampled Player Stats:\")\n",
    "for stat, value in sampled_stats:\n",
    "    print(\"\\t\", stat, \"->\", round(value,3))\n",
    "\n"
   ]
  },
  {
   "cell_type": "markdown",
   "metadata": {},
   "source": [
    "Sample statistics are generated using the value entered for the `player_performance` variable.  These statistics are then used in the model to calculate the predicted passing yards. "
   ]
  },
  {
   "cell_type": "code",
   "execution_count": 21,
   "metadata": {},
   "outputs": [
    {
     "name": "stdout",
     "output_type": "stream",
     "text": [
      "Predicted Passing Yards -> 276.796\n"
     ]
    }
   ],
   "source": [
    "poly_pred = poly_model.fit_transform(predictions)\n",
    "y_hat = pm1.predict(poly_pred)\n",
    "print(\"Predicted Passing Yards ->\", round(y_hat[0],3))"
   ]
  },
  {
   "cell_type": "markdown",
   "metadata": {},
   "source": [
    "## Model 2: Quantity of Passing Touchdowns"
   ]
  },
  {
   "cell_type": "code",
   "execution_count": 10,
   "metadata": {},
   "outputs": [
    {
     "data": {
      "text/html": [
       "<div>\n",
       "<style scoped>\n",
       "    .dataframe tbody tr th:only-of-type {\n",
       "        vertical-align: middle;\n",
       "    }\n",
       "\n",
       "    .dataframe tbody tr th {\n",
       "        vertical-align: top;\n",
       "    }\n",
       "\n",
       "    .dataframe thead th {\n",
       "        text-align: right;\n",
       "    }\n",
       "</style>\n",
       "<table border=\"1\" class=\"dataframe\">\n",
       "  <thead>\n",
       "    <tr style=\"text-align: right;\">\n",
       "      <th></th>\n",
       "      <th>Comp</th>\n",
       "      <th>Att_P</th>\n",
       "      <th>Avg_P</th>\n",
       "      <th>Ints</th>\n",
       "      <th>Sck</th>\n",
       "    </tr>\n",
       "  </thead>\n",
       "  <tbody>\n",
       "    <tr>\n",
       "      <th>8</th>\n",
       "      <td>28.0</td>\n",
       "      <td>42.0</td>\n",
       "      <td>6.3</td>\n",
       "      <td>0.0</td>\n",
       "      <td>4.0</td>\n",
       "    </tr>\n",
       "    <tr>\n",
       "      <th>49</th>\n",
       "      <td>18.0</td>\n",
       "      <td>25.0</td>\n",
       "      <td>6.0</td>\n",
       "      <td>2.0</td>\n",
       "      <td>2.0</td>\n",
       "    </tr>\n",
       "    <tr>\n",
       "      <th>6</th>\n",
       "      <td>27.0</td>\n",
       "      <td>37.0</td>\n",
       "      <td>7.3</td>\n",
       "      <td>0.0</td>\n",
       "      <td>5.0</td>\n",
       "    </tr>\n",
       "    <tr>\n",
       "      <th>47</th>\n",
       "      <td>19.0</td>\n",
       "      <td>29.0</td>\n",
       "      <td>8.4</td>\n",
       "      <td>1.0</td>\n",
       "      <td>3.0</td>\n",
       "    </tr>\n",
       "    <tr>\n",
       "      <th>4</th>\n",
       "      <td>24.0</td>\n",
       "      <td>37.0</td>\n",
       "      <td>5.7</td>\n",
       "      <td>0.0</td>\n",
       "      <td>3.0</td>\n",
       "    </tr>\n",
       "  </tbody>\n",
       "</table>\n",
       "</div>"
      ],
      "text/plain": [
       "    Comp  Att_P  Avg_P  Ints  Sck\n",
       "8   28.0   42.0    6.3   0.0  4.0\n",
       "49  18.0   25.0    6.0   2.0  2.0\n",
       "6   27.0   37.0    7.3   0.0  5.0\n",
       "47  19.0   29.0    8.4   1.0  3.0\n",
       "4   24.0   37.0    5.7   0.0  3.0"
      ]
     },
     "execution_count": 10,
     "metadata": {},
     "output_type": "execute_result"
    }
   ],
   "source": [
    "importlib.reload(passing)\n",
    "# Set features and statistic to predict\n",
    "X2, y2 = passing.prep_td(player_data)\n",
    "\n",
    "# Split player data into training(80%) and testing(20%) subsets\n",
    "X2_train, X2_test, y2_train, y2_test = train_test_split(X2, y2, test_size=0.2, random_state=42)\n",
    "X2_train.head()"
   ]
  },
  {
   "cell_type": "code",
   "execution_count": 11,
   "metadata": {},
   "outputs": [
    {
     "name": "stdout",
     "output_type": "stream",
     "text": [
      "  R-squared: 1.0\n",
      "  RMSE: 2.7428154450865175e-13\n"
     ]
    }
   ],
   "source": [
    "# Create and fit 2nd degree polynomial to the data\n",
    "poly_model2 = PolynomialFeatures(degree=2)\n",
    "X2_train_poly = poly_model2.fit_transform(X2_train)\n",
    "X2_test_poly = poly_model2.transform(X2_test)\n",
    "\n",
    "# Create regression model \n",
    "pm2 = LinearRegression()\n",
    "pm2.fit(X2_train_poly, y2_train)\n",
    "\n",
    "# Gather model statistics\n",
    "tst_pred = pm2.predict(X2_test_poly)\n",
    "r2 = r2_score(y2_test, tst_pred)\n",
    "rmse = np.sqrt(mean_squared_error(y2_test, tst_pred))\n",
    "print(f\"  R-squared: {r2}\")\n",
    "print(f\"  RMSE: {rmse}\")"
   ]
  },
  {
   "cell_type": "code",
   "execution_count": 12,
   "metadata": {},
   "outputs": [
    {
     "data": {
      "text/plain": [
       "array([[18.26794919, 28.26794919,  6.69246825,  0.8169873 ,  2.3169873 ]])"
      ]
     },
     "execution_count": 12,
     "metadata": {},
     "output_type": "execute_result"
    }
   ],
   "source": [
    "predictions = np.array([passing.sample_stats(X2_test, random_state)])\n",
    "predictions"
   ]
  },
  {
   "cell_type": "code",
   "execution_count": 13,
   "metadata": {},
   "outputs": [
    {
     "name": "stdout",
     "output_type": "stream",
     "text": [
      "Sampled Player Stats:\n",
      "\t Completions -> 18.268\n",
      "\t Passing attempts -> 28.268\n",
      "\t Average passing yds -> 6.692\n",
      "\t Interceptions thrown -> 0.817\n",
      "\t Sacks taken -> 2.317\n"
     ]
    }
   ],
   "source": [
    "sampled_stats = zip(\n",
    "    ('Completions','Passing attempts','Average passing yds','Interceptions thrown','Sacks taken'),\n",
    "    predictions.flatten() )\n",
    "\n",
    "print(\"Sampled Player Stats:\")\n",
    "for stat, value in sampled_stats:\n",
    "    print(\"\\t\", stat, \"->\", round(value,3))"
   ]
  },
  {
   "cell_type": "code",
   "execution_count": 14,
   "metadata": {},
   "outputs": [
    {
     "name": "stdout",
     "output_type": "stream",
     "text": [
      "Predicted Passing Touchdowns -> 1.949\n"
     ]
    }
   ],
   "source": [
    "poly_pred2 = poly_model2.fit_transform(predictions)\n",
    "y_hat2 = pm2.predict(poly_pred2)\n",
    "print(\"Predicted Passing Touchdowns ->\", round(y_hat2[0],3))"
   ]
  },
  {
   "cell_type": "markdown",
   "metadata": {},
   "source": [
    "## Model 3: Game Result"
   ]
  },
  {
   "cell_type": "code",
   "execution_count": null,
   "metadata": {},
   "outputs": [],
   "source": []
  }
 ],
 "metadata": {
  "kernelspec": {
   "display_name": "base",
   "language": "python",
   "name": "python3"
  },
  "language_info": {
   "codemirror_mode": {
    "name": "ipython",
    "version": 3
   },
   "file_extension": ".py",
   "mimetype": "text/x-python",
   "name": "python",
   "nbconvert_exporter": "python",
   "pygments_lexer": "ipython3",
   "version": "3.11.7"
  }
 },
 "nbformat": 4,
 "nbformat_minor": 2
}
