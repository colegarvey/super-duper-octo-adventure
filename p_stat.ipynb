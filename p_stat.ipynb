{
 "cells": [
  {
   "cell_type": "markdown",
   "metadata": {},
   "source": [
    "# Modeling Passsing Statistics\n",
    "***"
   ]
  },
  {
   "cell_type": "code",
   "execution_count": 8,
   "metadata": {},
   "outputs": [],
   "source": [
    "import pandas as pd\n",
    "import numpy as np\n",
    "import importlib\n",
    "from helpers import passing \n",
    "import matplotlib.pyplot as plt\n",
    "\n",
    "from sklearn.model_selection import train_test_split\n",
    "from sklearn.preprocessing import PolynomialFeatures\n",
    "from sklearn.linear_model import LinearRegression\n",
    "from sklearn.metrics import r2_score, mean_squared_error"
   ]
  },
  {
   "cell_type": "markdown",
   "metadata": {},
   "source": [
    "Description of data columns"
   ]
  },
  {
   "cell_type": "code",
   "execution_count": 35,
   "metadata": {},
   "outputs": [
    {
     "data": {
      "text/html": [
       "<div>\n",
       "<style scoped>\n",
       "    .dataframe tbody tr th:only-of-type {\n",
       "        vertical-align: middle;\n",
       "    }\n",
       "\n",
       "    .dataframe tbody tr th {\n",
       "        vertical-align: top;\n",
       "    }\n",
       "\n",
       "    .dataframe thead th {\n",
       "        text-align: right;\n",
       "    }\n",
       "</style>\n",
       "<table border=\"1\" class=\"dataframe\">\n",
       "  <thead>\n",
       "    <tr style=\"text-align: right;\">\n",
       "      <th></th>\n",
       "      <th>Player</th>\n",
       "      <th>Year</th>\n",
       "      <th>Wk</th>\n",
       "      <th>Opp</th>\n",
       "      <th>Result</th>\n",
       "      <th>Comp</th>\n",
       "      <th>Att_P</th>\n",
       "      <th>Yds_P</th>\n",
       "      <th>Avg_P</th>\n",
       "      <th>TD_P</th>\n",
       "      <th>Ints</th>\n",
       "      <th>Sck</th>\n",
       "      <th>Scky</th>\n",
       "      <th>Rate</th>\n",
       "      <th>Att_R</th>\n",
       "      <th>Yds_R</th>\n",
       "      <th>Avg_R</th>\n",
       "      <th>TD_R</th>\n",
       "      <th>Fum</th>\n",
       "      <th>Lost</th>\n",
       "    </tr>\n",
       "  </thead>\n",
       "  <tbody>\n",
       "    <tr>\n",
       "      <th>0</th>\n",
       "      <td>Joe Burrow</td>\n",
       "      <td>2024</td>\n",
       "      <td>18</td>\n",
       "      <td>@Steelers</td>\n",
       "      <td>W 19 - 17</td>\n",
       "      <td>37.0</td>\n",
       "      <td>46.0</td>\n",
       "      <td>277.0</td>\n",
       "      <td>6.0</td>\n",
       "      <td>1.0</td>\n",
       "      <td>1.0</td>\n",
       "      <td>4.0</td>\n",
       "      <td>31.0</td>\n",
       "      <td>90.0</td>\n",
       "      <td>1.0</td>\n",
       "      <td>-1.0</td>\n",
       "      <td>-1.0</td>\n",
       "      <td>0.0</td>\n",
       "      <td>1.0</td>\n",
       "      <td>0.0</td>\n",
       "    </tr>\n",
       "    <tr>\n",
       "      <th>1</th>\n",
       "      <td>Joe Burrow</td>\n",
       "      <td>2024</td>\n",
       "      <td>17</td>\n",
       "      <td>Broncos</td>\n",
       "      <td>W 30 - 24</td>\n",
       "      <td>39.0</td>\n",
       "      <td>49.0</td>\n",
       "      <td>412.0</td>\n",
       "      <td>8.4</td>\n",
       "      <td>3.0</td>\n",
       "      <td>0.0</td>\n",
       "      <td>7.0</td>\n",
       "      <td>28.0</td>\n",
       "      <td>122.1</td>\n",
       "      <td>4.0</td>\n",
       "      <td>25.0</td>\n",
       "      <td>6.2</td>\n",
       "      <td>1.0</td>\n",
       "      <td>NaN</td>\n",
       "      <td>NaN</td>\n",
       "    </tr>\n",
       "    <tr>\n",
       "      <th>2</th>\n",
       "      <td>Joe Burrow</td>\n",
       "      <td>2024</td>\n",
       "      <td>16</td>\n",
       "      <td>Browns</td>\n",
       "      <td>W 24 - 6</td>\n",
       "      <td>23.0</td>\n",
       "      <td>30.0</td>\n",
       "      <td>252.0</td>\n",
       "      <td>8.4</td>\n",
       "      <td>3.0</td>\n",
       "      <td>0.0</td>\n",
       "      <td>4.0</td>\n",
       "      <td>42.0</td>\n",
       "      <td>134.3</td>\n",
       "      <td>2.0</td>\n",
       "      <td>19.0</td>\n",
       "      <td>9.5</td>\n",
       "      <td>0.0</td>\n",
       "      <td>1.0</td>\n",
       "      <td>1.0</td>\n",
       "    </tr>\n",
       "    <tr>\n",
       "      <th>3</th>\n",
       "      <td>Joe Burrow</td>\n",
       "      <td>2024</td>\n",
       "      <td>15</td>\n",
       "      <td>@Titans</td>\n",
       "      <td>W 37 - 27</td>\n",
       "      <td>26.0</td>\n",
       "      <td>37.0</td>\n",
       "      <td>271.0</td>\n",
       "      <td>7.3</td>\n",
       "      <td>3.0</td>\n",
       "      <td>2.0</td>\n",
       "      <td>1.0</td>\n",
       "      <td>2.0</td>\n",
       "      <td>95.7</td>\n",
       "      <td>NaN</td>\n",
       "      <td>NaN</td>\n",
       "      <td>NaN</td>\n",
       "      <td>NaN</td>\n",
       "      <td>1.0</td>\n",
       "      <td>1.0</td>\n",
       "    </tr>\n",
       "    <tr>\n",
       "      <th>4</th>\n",
       "      <td>Joe Burrow</td>\n",
       "      <td>2024</td>\n",
       "      <td>14</td>\n",
       "      <td>@Cowboys</td>\n",
       "      <td>W 27 - 20</td>\n",
       "      <td>33.0</td>\n",
       "      <td>44.0</td>\n",
       "      <td>369.0</td>\n",
       "      <td>8.4</td>\n",
       "      <td>3.0</td>\n",
       "      <td>1.0</td>\n",
       "      <td>2.0</td>\n",
       "      <td>10.0</td>\n",
       "      <td>112.8</td>\n",
       "      <td>2.0</td>\n",
       "      <td>-2.0</td>\n",
       "      <td>-1.0</td>\n",
       "      <td>0.0</td>\n",
       "      <td>1.0</td>\n",
       "      <td>0.0</td>\n",
       "    </tr>\n",
       "  </tbody>\n",
       "</table>\n",
       "</div>"
      ],
      "text/plain": [
       "       Player  Year  Wk        Opp     Result  Comp  Att_P  Yds_P  Avg_P  \\\n",
       "0  Joe Burrow  2024  18  @Steelers  W 19 - 17  37.0   46.0  277.0    6.0   \n",
       "1  Joe Burrow  2024  17    Broncos  W 30 - 24  39.0   49.0  412.0    8.4   \n",
       "2  Joe Burrow  2024  16     Browns   W 24 - 6  23.0   30.0  252.0    8.4   \n",
       "3  Joe Burrow  2024  15    @Titans  W 37 - 27  26.0   37.0  271.0    7.3   \n",
       "4  Joe Burrow  2024  14   @Cowboys  W 27 - 20  33.0   44.0  369.0    8.4   \n",
       "\n",
       "   TD_P  Ints  Sck  Scky   Rate  Att_R  Yds_R  Avg_R  TD_R  Fum  Lost  \n",
       "0   1.0   1.0  4.0  31.0   90.0    1.0   -1.0   -1.0   0.0  1.0   0.0  \n",
       "1   3.0   0.0  7.0  28.0  122.1    4.0   25.0    6.2   1.0  NaN   NaN  \n",
       "2   3.0   0.0  4.0  42.0  134.3    2.0   19.0    9.5   0.0  1.0   1.0  \n",
       "3   3.0   2.0  1.0   2.0   95.7    NaN    NaN    NaN   NaN  1.0   1.0  \n",
       "4   3.0   1.0  2.0  10.0  112.8    2.0   -2.0   -1.0   0.0  1.0   0.0  "
      ]
     },
     "execution_count": 35,
     "metadata": {},
     "output_type": "execute_result"
    }
   ],
   "source": [
    "passing_data = pd.read_csv('data/nfl_passing_stats.csv')\n",
    "passing_data.head()"
   ]
  },
  {
   "cell_type": "code",
   "execution_count": 49,
   "metadata": {},
   "outputs": [
    {
     "name": "stdout",
     "output_type": "stream",
     "text": [
      "Number of Rows: 51\n"
     ]
    }
   ],
   "source": [
    "importlib.reload(passing)\n",
    "PLAYER = \"Patrick Mahomes\"\n",
    "player_data = passing.clean_nan( passing_data.loc[passing_data['Player'] == PLAYER] )\n",
    "print(\"Number of Rows:\", len(player_data))"
   ]
  },
  {
   "cell_type": "markdown",
   "metadata": {},
   "source": [
    "## Model 1: Predicting Quantity of Passing Yards"
   ]
  },
  {
   "cell_type": "code",
   "execution_count": 85,
   "metadata": {},
   "outputs": [
    {
     "data": {
      "text/plain": [
       "<module 'helpers.passing' from 'c:\\\\Users\\\\cgarv\\\\risky-griff\\\\helpers\\\\passing.py'>"
      ]
     },
     "execution_count": 85,
     "metadata": {},
     "output_type": "execute_result"
    }
   ],
   "source": [
    "importlib.reload(passing)"
   ]
  },
  {
   "cell_type": "code",
   "execution_count": 86,
   "metadata": {},
   "outputs": [
    {
     "data": {
      "text/html": [
       "<div>\n",
       "<style scoped>\n",
       "    .dataframe tbody tr th:only-of-type {\n",
       "        vertical-align: middle;\n",
       "    }\n",
       "\n",
       "    .dataframe tbody tr th {\n",
       "        vertical-align: top;\n",
       "    }\n",
       "\n",
       "    .dataframe thead th {\n",
       "        text-align: right;\n",
       "    }\n",
       "</style>\n",
       "<table border=\"1\" class=\"dataframe\">\n",
       "  <thead>\n",
       "    <tr style=\"text-align: right;\">\n",
       "      <th></th>\n",
       "      <th>Avg_P</th>\n",
       "      <th>TD_P</th>\n",
       "      <th>Ints</th>\n",
       "      <th>Cmp_rate</th>\n",
       "    </tr>\n",
       "  </thead>\n",
       "  <tbody>\n",
       "    <tr>\n",
       "      <th>8</th>\n",
       "      <td>6.3</td>\n",
       "      <td>1.0</td>\n",
       "      <td>0.0</td>\n",
       "      <td>0.666667</td>\n",
       "    </tr>\n",
       "    <tr>\n",
       "      <th>49</th>\n",
       "      <td>6.0</td>\n",
       "      <td>2.0</td>\n",
       "      <td>2.0</td>\n",
       "      <td>0.720000</td>\n",
       "    </tr>\n",
       "    <tr>\n",
       "      <th>6</th>\n",
       "      <td>7.3</td>\n",
       "      <td>3.0</td>\n",
       "      <td>0.0</td>\n",
       "      <td>0.729730</td>\n",
       "    </tr>\n",
       "    <tr>\n",
       "      <th>47</th>\n",
       "      <td>8.4</td>\n",
       "      <td>1.0</td>\n",
       "      <td>1.0</td>\n",
       "      <td>0.655172</td>\n",
       "    </tr>\n",
       "    <tr>\n",
       "      <th>4</th>\n",
       "      <td>5.7</td>\n",
       "      <td>1.0</td>\n",
       "      <td>0.0</td>\n",
       "      <td>0.648649</td>\n",
       "    </tr>\n",
       "  </tbody>\n",
       "</table>\n",
       "</div>"
      ],
      "text/plain": [
       "    Avg_P  TD_P  Ints  Cmp_rate\n",
       "8     6.3   1.0   0.0  0.666667\n",
       "49    6.0   2.0   2.0  0.720000\n",
       "6     7.3   3.0   0.0  0.729730\n",
       "47    8.4   1.0   1.0  0.655172\n",
       "4     5.7   1.0   0.0  0.648649"
      ]
     },
     "execution_count": 86,
     "metadata": {},
     "output_type": "execute_result"
    }
   ],
   "source": [
    "# Set features and statistic to predict\n",
    "X, y = passing.prep_passing_td(player_data)\n",
    "\n",
    "# Split player data into training(80%) and testing(20%) subsets\n",
    "X_train, X_test, y_train, y_test = train_test_split(X, y, test_size=0.2, random_state=42)\n",
    "X_train.head()"
   ]
  },
  {
   "cell_type": "code",
   "execution_count": 60,
   "metadata": {},
   "outputs": [],
   "source": [
    "deg_results = []\n",
    "\n",
    "for degree in range(6):\n",
    "    poly_model = PolynomialFeatures(degree=degree)\n",
    "\n",
    "    X_train_poly = poly_model.fit_transform(X_train)\n",
    "    X_test_poly = poly_model.transform(X_test)\n",
    "\n",
    "    tst_model = LinearRegression()\n",
    "    tst_model.fit(X_train_poly, y_train)\n",
    "    \n",
    "    # Compute model stats\n",
    "    y_hat = tst_model.predict(X_test_poly)\n",
    "    r_sq = r2_score(y_test, y_hat)\n",
    "    rmse = np.sqrt(mean_squared_error(y_test, y_hat))\n",
    "\n",
    "    deg_results.append((degree, r_sq, rmse))"
   ]
  },
  {
   "cell_type": "code",
   "execution_count": 61,
   "metadata": {},
   "outputs": [
    {
     "data": {
      "image/png": "[encoded data removed]",
      "text/plain": [
       "<Figure size 1000x500 with 2 Axes>"
      ]
     },
     "metadata": {},
     "output_type": "display_data"
    }
   ],
   "source": [
    "degrees, r2_scores, rmse_scores = zip(*deg_results)\n",
    "\n",
    "plt.figure(figsize=(10, 5))\n",
    "\n",
    "plt.subplot(1, 2, 1)\n",
    "plt.plot(degrees, r2_scores, marker='o')\n",
    "plt.xlabel('Polynomial Degree')\n",
    "plt.ylabel('R-squared')\n",
    "plt.title('R-squared vs. Polynomial Degree')\n",
    "\n",
    "plt.subplot(1, 2, 2)\n",
    "plt.plot(degrees, rmse_scores, marker='o', color='orange')\n",
    "plt.xlabel('Polynomial Degree')\n",
    "plt.ylabel('RMSE')\n",
    "plt.title('RMSE vs. Polynomial Degree')\n",
    "\n",
    "plt.tight_layout()\n",
    "plt.show()"
   ]
  },
  {
   "cell_type": "code",
   "execution_count": 87,
   "metadata": {},
   "outputs": [
    {
     "name": "stdout",
     "output_type": "stream",
     "text": [
      "  R-squared: 0.9666829657420634\n",
      "  RMSE: 10.569266770531026\n"
     ]
    }
   ],
   "source": [
    "poly_model = PolynomialFeatures(degree=2)\n",
    "X_train_poly = poly_model.fit_transform(X_train)\n",
    "X_test_poly = poly_model.transform(X_test)\n",
    "\n",
    "pm1 = LinearRegression()\n",
    "pm1.fit(X_train_poly, y_train)\n",
    "\n",
    "tst_pred = pm1.predict(X_test_poly)\n",
    "r2 = r2_score(y_test, tst_pred)\n",
    "rmse = np.sqrt(mean_squared_error(y_test, tst_pred))\n",
    "print(f\"  R-squared: {r2}\")\n",
    "print(f\"  RMSE: {rmse}\")"
   ]
  },
  {
   "cell_type": "code",
   "execution_count": 88,
   "metadata": {},
   "outputs": [
    {
     "data": {
      "text/plain": [
       "Text(0, 0.5, 'Predicted Passing Yds')"
      ]
     },
     "execution_count": 88,
     "metadata": {},
     "output_type": "execute_result"
    },
    {
     "data": {
      "image/png": "[encoded data removed]",
      "text/plain": [
       "<Figure size 800x600 with 1 Axes>"
      ]
     },
     "metadata": {},
     "output_type": "display_data"
    }
   ],
   "source": [
    "plt.figure(figsize=(8, 6))\n",
    "plt.scatter(y_test, tst_pred)\n",
    "plt.xlabel(\"Passing Yds\")\n",
    "plt.ylabel(\"Predicted Passing Yds\")"
   ]
  },
  {
   "cell_type": "markdown",
   "metadata": {},
   "source": [
    "## Predicting\n",
    "<!-- \n",
    "The below cell is a reference to the current players average stats which can be used as a guide for the input to the following cell.  Add in your guess respectively for the players average passing yards, passing touchdowns, thrown interceptions, and pass completion rate (as a proportion) into the numpy `predictions` array. -->\n",
    "### On a scale of 1 - 10, how well do you think selected player will play?\n",
    "Enter the value below:"
   ]
  },
  {
   "cell_type": "code",
   "execution_count": 174,
   "metadata": {},
   "outputs": [],
   "source": [
    "# YOUR GUESS HERE\n",
    "player_performance = 10"
   ]
  },
  {
   "cell_type": "markdown",
   "metadata": {},
   "source": [
    "Sample statistics are generated using the value entered for the `player_performance` variable.  These statistics are then used in the model to calculate the predicted passing yards. "
   ]
  },
  {
   "cell_type": "code",
   "execution_count": 241,
   "metadata": {},
   "outputs": [
    {
     "name": "stdout",
     "output_type": "stream",
     "text": [
      "Sampled Player Stats: [[5.49651206e+00 6.76302864e-01 7.36254778e-04 6.11329987e-01]]\n",
      "Predicted Passing Yards: 237.3370335966756\n"
     ]
    }
   ],
   "source": [
    "predictions = np.array([passing.sample_stats(player_performance, X)])\n",
    "print(\"Sampled Player Stats:\", predictions)\n",
    "\n",
    "poly_pred = poly_model.fit_transform(predictions)\n",
    "y_hat = pm1.predict(poly_pred)\n",
    "print(\"Predicted Passing Yards:\", y_hat[0]) "
   ]
  }
 ],
 "metadata": {
  "kernelspec": {
   "display_name": "base",
   "language": "python",
   "name": "python3"
  },
  "language_info": {
   "codemirror_mode": {
    "name": "ipython",
    "version": 3
   },
   "file_extension": ".py",
   "mimetype": "text/x-python",
   "name": "python",
   "nbconvert_exporter": "python",
   "pygments_lexer": "ipython3",
   "version": "3.11.7"
  }
 },
 "nbformat": 4,
 "nbformat_minor": 2
}
