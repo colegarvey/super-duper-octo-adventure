{
 "cells": [
  {
   "cell_type": "markdown",
   "metadata": {},
   "source": [
    "## Data Scraping\n",
    "\n",
    "`src_data` contains the necessary functions to scrape the NFL webpage for player statistics of the previous 18 week, 2024 football season.  Collecting data based on a players passing, rushing, or receiving data from their personal stats page.\n",
    "\n",
    "Players and their stas categories can be reached through the following webpage: \"https://www.nfl.com/stats/player-stats/\""
   ]
  },
  {
   "cell_type": "code",
   "execution_count": 9,
   "metadata": {},
   "outputs": [],
   "source": [
    "import importlib\n",
    "import src_data"
   ]
  },
  {
   "cell_type": "markdown",
   "metadata": {},
   "source": [
    "The below cell is mainly used for development.  Run the below cell after changes have been to the `src_data.py` file to access any modifications that were made."
   ]
  },
  {
   "cell_type": "code",
   "execution_count": 10,
   "metadata": {},
   "outputs": [
    {
     "data": {
      "text/plain": [
       "<module 'src_data' from 'c:\\\\Users\\\\cgarv\\\\risky-griff\\\\data\\\\src_data.py'>"
      ]
     },
     "execution_count": 10,
     "metadata": {},
     "output_type": "execute_result"
    }
   ],
   "source": [
    "importlib.reload(src_data)"
   ]
  },
  {
   "cell_type": "markdown",
   "metadata": {},
   "source": [
    "The following cell is used to scrape and write player data for the provided arguments listed below.  Only run this cell if necessary as the current version will overwrite the current `.csv` files with the respective player data.  Data can be selectively collected and written by passing a '1' for the desired categories of data."
   ]
  },
  {
   "cell_type": "code",
   "execution_count": null,
   "metadata": {},
   "outputs": [],
   "source": [
    "# src_data.write_player_data(passing=1, rushing=1, receiving=1) ; will collect/write player data for passing, rushing, and receiving\n",
    "src_data.write_player_data(0,0,0)"
   ]
  }
 ],
 "metadata": {
  "kernelspec": {
   "display_name": "base",
   "language": "python",
   "name": "python3"
  },
  "language_info": {
   "codemirror_mode": {
    "name": "ipython",
    "version": 3
   },
   "file_extension": ".py",
   "mimetype": "text/x-python",
   "name": "python",
   "nbconvert_exporter": "python",
   "pygments_lexer": "ipython3",
   "version": "3.11.7"
  }
 },
 "nbformat": 4,
 "nbformat_minor": 2
}
