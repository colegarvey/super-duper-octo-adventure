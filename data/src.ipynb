{
 "cells": [
  {
   "cell_type": "markdown",
   "metadata": {},
   "source": [
    "# Data Scraping\n",
    "\n",
    "`src_data` contains the necessary functions to scrape the NFL webpage for player statistics of the previous 18 week, 2024 football season.  Collecting data based on a players passing, rushing, or receiving data from their personal stats page.\n",
    "\n",
    "Players and their stas categories can be reached through the following webpage: \"https://www.nfl.com/stats/player-stats/\""
   ]
  },
  {
   "cell_type": "code",
   "execution_count": 4,
   "metadata": {},
   "outputs": [],
   "source": [
    "# import importlib\n",
    "import src_data"
   ]
  },
  {
   "cell_type": "markdown",
   "metadata": {},
   "source": [
    "The below cell is mainly used for development.  Run the below cell after changes have been to the `src_data.py` file to access any modifications that were made."
   ]
  },
  {
   "cell_type": "code",
   "execution_count": 12,
   "metadata": {},
   "outputs": [
    {
     "data": {
      "text/plain": [
       "<module 'src_data' from 'c:\\\\Users\\\\cgarv\\\\risky-griff\\\\data\\\\src_data.py'>"
      ]
     },
     "execution_count": 12,
     "metadata": {},
     "output_type": "execute_result"
    }
   ],
   "source": [
    "# importlib.reload(src_data)"
   ]
  },
  {
   "cell_type": "markdown",
   "metadata": {},
   "source": [
    "### Collecting Data\n",
    "\n",
    "The following cell is used to scrape and write player data for the NFL players under the passing, rushing, and receiving categories.  Only run this cell if necessary as the current version will overwrite any data `.csv` files previously created by running this cell.  If this cell has not been run then there should be no worries as is will create the necessary files.  Data can be selectively collected and written by passing a '1' for the desired categories of data.  It might be best to run the cell with a single valid argument as it will take a long time to complete.  \n",
    "\n",
    "**Avoid** running the below cell for categories of data that will not be used. "
   ]
  },
  {
   "cell_type": "code",
   "execution_count": 13,
   "metadata": {},
   "outputs": [
    {
     "name": "stdout",
     "output_type": "stream",
     "text": [
      "Scraping passing stats..\n",
      "Scraping stats for Joe Burrow...\n",
      "Scraping stats for Jared Goff...\n",
      "Scraping stats for Baker Mayfield...\n",
      "Scraping stats for Geno Smith...\n",
      "Scraping stats for Sam Darnold...\n",
      "Scraping stats for Lamar Jackson...\n",
      "Scraping stats for Patrick Mahomes...\n",
      "Scraping stats for Aaron Rodgers...\n",
      "Scraping stats for Justin Herbert...\n",
      "Scraping stats for Brock Purdy...\n",
      "Scraping stats for Kyler Murray...\n",
      "Scraping stats for Bo Nix...\n",
      "Scraping stats for Matthew Stafford...\n",
      "Scraping stats for Josh Allen...\n",
      "Scraping stats for C.J. Stroud...\n",
      "Scraping stats for Jayden Daniels...\n",
      "Scraping stats for Caleb Williams...\n",
      "Scraping stats for Kirk Cousins...\n",
      "Scraping stats for Jordan Love...\n",
      "Scraping stats for Jalen Hurts...\n",
      "Scraping stats for Tua Tagovailoa...\n",
      "Scraping stats for Russell Wilson...\n",
      "Scraping stats for Bryce Young...\n",
      "Scraping stats for Drake Maye...\n",
      "Scraping stats for Derek Carr...\n",
      "Scraping stats for Tua Tagovailoa...\n",
      "Scraping stats for Jared Goff...\n",
      "Scraping stats for Dak Prescott...\n",
      "Scraping stats for Josh Allen...\n",
      "Scraping stats for Brock Purdy...\n",
      "Scraping stats for Patrick Mahomes...\n",
      "Scraping stats for Jordan Love...\n",
      "Scraping stats for C.J. Stroud...\n",
      "Scraping stats for Baker Mayfield...\n",
      "Scraping stats for Trevor Lawrence...\n",
      "Scraping stats for Matthew Stafford...\n",
      "Scraping stats for Sam Howell...\n",
      "Scraping stats for Derek Carr...\n",
      "Scraping stats for Jalen Hurts...\n",
      "Scraping stats for Lamar Jackson...\n",
      "Scraping stats for Geno Smith...\n",
      "Scraping stats for Gardner Minshew...\n",
      "Scraping stats for Justin Herbert...\n",
      "Scraping stats for Russell Wilson...\n",
      "Scraping stats for Bryce Young...\n",
      "Scraping stats for Desmond Ridder...\n",
      "Scraping stats for Justin Fields...\n",
      "Scraping stats for Joshua Dobbs...\n",
      "Scraping stats for Kirk Cousins...\n",
      "Scraping stats for Joe Burrow...\n",
      "Scraping stats for Patrick Mahomes...\n",
      "Scraping stats for Justin Herbert...\n",
      "Scraping stats for Tom Brady...\n",
      "Scraping stats for Kirk Cousins...\n",
      "Scraping stats for Joe Burrow...\n",
      "Scraping stats for Jared Goff...\n",
      "Scraping stats for Josh Allen...\n",
      "Scraping stats for Geno Smith...\n",
      "Scraping stats for Trevor Lawrence...\n",
      "Scraping stats for Jalen Hurts...\n",
      "Scraping stats for Aaron Rodgers...\n",
      "Scraping stats for Tua Tagovailoa...\n",
      "Scraping stats for Russell Wilson...\n",
      "Scraping stats for Derek Carr...\n",
      "Scraping stats for Daniel Jones...\n",
      "Scraping stats for Davis Mills...\n",
      "Scraping stats for Matt Ryan...\n",
      "Scraping stats for Mac Jones...\n",
      "Scraping stats for Andy Dalton...\n",
      "Scraping stats for Dak Prescott...\n",
      "Scraping stats for Jacoby Brissett...\n",
      "Scraping stats for Ryan Tannehill...\n",
      "Scraping stats for Jimmy Garoppolo...\n",
      "Scraping stats for Kenny Pickett...\n",
      "Scraping stats for Kyler Murray...\n",
      "Data saved to nfl_passing_stats.csv\n"
     ]
    }
   ],
   "source": [
    "# src_data.write_player_data(passing=1, rushing=1, receiving=1) ; will collect/write player data for passing, rushing, and receiving\n",
    "src_data.write_player_data(1,0,0)"
   ]
  }
 ],
 "metadata": {
  "kernelspec": {
   "display_name": "base",
   "language": "python",
   "name": "python3"
  },
  "language_info": {
   "codemirror_mode": {
    "name": "ipython",
    "version": 3
   },
   "file_extension": ".py",
   "mimetype": "text/x-python",
   "name": "python",
   "nbconvert_exporter": "python",
   "pygments_lexer": "ipython3",
   "version": "3.11.7"
  }
 },
 "nbformat": 4,
 "nbformat_minor": 2
}
